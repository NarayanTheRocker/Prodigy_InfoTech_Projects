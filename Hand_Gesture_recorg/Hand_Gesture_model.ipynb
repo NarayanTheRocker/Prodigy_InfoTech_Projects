{
 "cells": [
  {
   "cell_type": "code",
   "execution_count": null,
   "metadata": {
    "_cell_guid": "b1076dfc-b9ad-4769-8c92-a6c4dae69d19",
    "_uuid": "8f2839f25d086af736a60e9eeb907d3b93b6e0e5",
    "execution": {
     "iopub.execute_input": "2024-07-13T08:38:35.359974Z",
     "iopub.status.busy": "2024-07-13T08:38:35.359597Z"
    }
   },
   "outputs": [
    {
     "name": "stderr",
     "output_type": "stream",
     "text": [
      "2024-07-13 08:38:37.452506: E external/local_xla/xla/stream_executor/cuda/cuda_dnn.cc:9261] Unable to register cuDNN factory: Attempting to register factory for plugin cuDNN when one has already been registered\n",
      "2024-07-13 08:38:37.452627: E external/local_xla/xla/stream_executor/cuda/cuda_fft.cc:607] Unable to register cuFFT factory: Attempting to register factory for plugin cuFFT when one has already been registered\n",
      "2024-07-13 08:38:37.594553: E external/local_xla/xla/stream_executor/cuda/cuda_blas.cc:1515] Unable to register cuBLAS factory: Attempting to register factory for plugin cuBLAS when one has already been registered\n"
     ]
    }
   ],
   "source": [
    "import warnings\n",
    "warnings.filterwarnings('ignore')\n",
    "\n",
    "import keras\n",
    "import matplotlib.pyplot as plt \n",
    "import os \n",
    "import cv2 \n",
    "import numpy as np\n",
    "import pandas as pd\n",
    "\n",
    "# Import of keras model and hidden layers for our convolutional network\n",
    "from keras.layers import Conv2D, Activation, MaxPool2D, Dense, Flatten, Dropout\n",
    "\n",
    "import os\n",
    "for dirname, _, filenames in os.walk('/kaggle/input'):\n",
    "    for filename in filenames:\n",
    "        os.path.join(dirname, filename)"
   ]
  },
  {
   "cell_type": "code",
   "execution_count": null,
   "metadata": {
    "execution": {
     "iopub.execute_input": "2024-06-29T15:52:31.987334Z",
     "iopub.status.busy": "2024-06-29T15:52:31.986802Z",
     "iopub.status.idle": "2024-06-29T15:52:31.993869Z",
     "shell.execute_reply": "2024-06-29T15:52:31.992399Z",
     "shell.execute_reply.started": "2024-06-29T15:52:31.987289Z"
    }
   },
   "outputs": [],
   "source": [
    "CATEGORIES = [\"01_palm\", '02_l','03_fist','04_fist_moved','05_thumb','06_index','07_ok','08_palm_moved','09_c','10_down']\n",
    "IMG_SIZE = 50\n",
    "\n",
    "data_path = \"../input/leapgestrecog/leapGestRecog\""
   ]
  },
  {
   "cell_type": "code",
   "execution_count": null,
   "metadata": {
    "execution": {
     "iopub.execute_input": "2024-06-29T15:52:31.995685Z",
     "iopub.status.busy": "2024-06-29T15:52:31.995334Z",
     "iopub.status.idle": "2024-06-29T15:53:30.213429Z",
     "shell.execute_reply": "2024-06-29T15:53:30.212049Z",
     "shell.execute_reply.started": "2024-06-29T15:52:31.995656Z"
    }
   },
   "outputs": [],
   "source": [
    "image_data = []\n",
    "for dr in os.listdir(data_path):\n",
    "    for category in CATEGORIES:\n",
    "        class_index = CATEGORIES.index(category)\n",
    "        path = os.path.join(data_path, dr, category)\n",
    "        for img in os.listdir(path):\n",
    "            try:\n",
    "                img_arr = cv2.imread(os.path.join(path, img), cv2.IMREAD_GRAYSCALE)\n",
    "                image_data.append([cv2.resize(img_arr, (IMG_SIZE, IMG_SIZE)), class_index])\n",
    "            except Exception as e:\n",
    "                pass\n",
    "image_data[0]"
   ]
  },
  {
   "cell_type": "code",
   "execution_count": null,
   "metadata": {
    "execution": {
     "iopub.execute_input": "2024-06-29T15:53:30.215666Z",
     "iopub.status.busy": "2024-06-29T15:53:30.215244Z",
     "iopub.status.idle": "2024-06-29T15:53:30.24304Z",
     "shell.execute_reply": "2024-06-29T15:53:30.241701Z",
     "shell.execute_reply.started": "2024-06-29T15:53:30.215634Z"
    }
   },
   "outputs": [],
   "source": [
    "import random\n",
    "random.shuffle(image_data)"
   ]
  },
  {
   "cell_type": "code",
   "execution_count": null,
   "metadata": {
    "execution": {
     "iopub.execute_input": "2024-06-29T15:53:30.246717Z",
     "iopub.status.busy": "2024-06-29T15:53:30.246324Z",
     "iopub.status.idle": "2024-06-29T15:53:30.272537Z",
     "shell.execute_reply": "2024-06-29T15:53:30.27081Z",
     "shell.execute_reply.started": "2024-06-29T15:53:30.246686Z"
    }
   },
   "outputs": [],
   "source": [
    "input_data = []\n",
    "label = []\n",
    "for X, y in image_data:\n",
    "    input_data.append(X)\n",
    "    label.append(y)"
   ]
  },
  {
   "cell_type": "code",
   "execution_count": null,
   "metadata": {
    "execution": {
     "iopub.execute_input": "2024-06-29T15:53:30.274711Z",
     "iopub.status.busy": "2024-06-29T15:53:30.274296Z",
     "iopub.status.idle": "2024-06-29T15:53:30.289895Z",
     "shell.execute_reply": "2024-06-29T15:53:30.288616Z",
     "shell.execute_reply.started": "2024-06-29T15:53:30.274679Z"
    }
   },
   "outputs": [],
   "source": [
    "label[:10]"
   ]
  },
  {
   "cell_type": "code",
   "execution_count": null,
   "metadata": {
    "execution": {
     "iopub.execute_input": "2024-06-29T15:53:30.29274Z",
     "iopub.status.busy": "2024-06-29T15:53:30.292128Z",
     "iopub.status.idle": "2024-06-29T15:53:30.934014Z",
     "shell.execute_reply": "2024-06-29T15:53:30.932495Z",
     "shell.execute_reply.started": "2024-06-29T15:53:30.292662Z"
    }
   },
   "outputs": [],
   "source": [
    "plt.figure(1, figsize=(10,10))\n",
    "for i in range(1,10):\n",
    "    plt.subplot(3,3,i)\n",
    "    plt.imshow(image_data[i][0], cmap='gray')\n",
    "    plt.xticks([])\n",
    "    plt.yticks([])\n",
    "    plt.title(CATEGORIES[label[i]][3:])\n",
    "plt.show()"
   ]
  },
  {
   "cell_type": "code",
   "execution_count": null,
   "metadata": {
    "execution": {
     "iopub.execute_input": "2024-06-29T15:53:30.936561Z",
     "iopub.status.busy": "2024-06-29T15:53:30.93607Z",
     "iopub.status.idle": "2024-06-29T15:53:31.266257Z",
     "shell.execute_reply": "2024-06-29T15:53:31.264947Z",
     "shell.execute_reply.started": "2024-06-29T15:53:30.936497Z"
    }
   },
   "outputs": [],
   "source": [
    "\n",
    "input_data = np.array(input_data)\n",
    "label = np.array(label)\n",
    "input_data = input_data/255.0\n",
    "input_data.shape"
   ]
  },
  {
   "cell_type": "code",
   "execution_count": null,
   "metadata": {
    "execution": {
     "iopub.execute_input": "2024-06-29T15:53:31.268117Z",
     "iopub.status.busy": "2024-06-29T15:53:31.267757Z",
     "iopub.status.idle": "2024-06-29T15:53:31.277182Z",
     "shell.execute_reply": "2024-06-29T15:53:31.275789Z",
     "shell.execute_reply.started": "2024-06-29T15:53:31.268088Z"
    }
   },
   "outputs": [],
   "source": [
    "import keras\n",
    "from keras.utils import to_categorical\n",
    "label = to_categorical(label)"
   ]
  },
  {
   "cell_type": "code",
   "execution_count": null,
   "metadata": {
    "execution": {
     "iopub.execute_input": "2024-06-29T15:53:31.279776Z",
     "iopub.status.busy": "2024-06-29T15:53:31.278784Z",
     "iopub.status.idle": "2024-06-29T15:53:31.287052Z",
     "shell.execute_reply": "2024-06-29T15:53:31.285875Z",
     "shell.execute_reply.started": "2024-06-29T15:53:31.279729Z"
    }
   },
   "outputs": [],
   "source": [
    "input_data.shape = (-1, IMG_SIZE, IMG_SIZE, 1)"
   ]
  },
  {
   "cell_type": "code",
   "execution_count": null,
   "metadata": {
    "execution": {
     "iopub.execute_input": "2024-06-29T15:53:31.289901Z",
     "iopub.status.busy": "2024-06-29T15:53:31.288967Z",
     "iopub.status.idle": "2024-06-29T15:53:32.096298Z",
     "shell.execute_reply": "2024-06-29T15:53:32.094965Z",
     "shell.execute_reply.started": "2024-06-29T15:53:31.289854Z"
    }
   },
   "outputs": [],
   "source": [
    "from sklearn.model_selection import train_test_split\n",
    "X_train, X_test, y_train, y_test = train_test_split(input_data, label,test_size=0.2, random_state=42, shuffle=True)"
   ]
  },
  {
   "cell_type": "code",
   "execution_count": null,
   "metadata": {
    "execution": {
     "iopub.execute_input": "2024-06-29T15:53:32.098365Z",
     "iopub.status.busy": "2024-06-29T15:53:32.097922Z",
     "iopub.status.idle": "2024-06-29T15:53:32.10626Z",
     "shell.execute_reply": "2024-06-29T15:53:32.105005Z",
     "shell.execute_reply.started": "2024-06-29T15:53:32.098334Z"
    }
   },
   "outputs": [],
   "source": [
    "print(X_train.shape)\n",
    "print(X_test.shape)\n",
    "print(y_train.shape)\n",
    "print(y_test.shape)"
   ]
  },
  {
   "cell_type": "code",
   "execution_count": null,
   "metadata": {
    "execution": {
     "iopub.execute_input": "2024-06-29T15:53:32.108253Z",
     "iopub.status.busy": "2024-06-29T15:53:32.107819Z",
     "iopub.status.idle": "2024-06-29T15:53:32.315169Z",
     "shell.execute_reply": "2024-06-29T15:53:32.313793Z",
     "shell.execute_reply.started": "2024-06-29T15:53:32.108199Z"
    }
   },
   "outputs": [],
   "source": [
    "model = keras.models.Sequential()\n",
    "\n",
    "model.add(Conv2D(filters = 32, kernel_size = (3,3), input_shape = (IMG_SIZE, IMG_SIZE, 1)))\n",
    "model.add(Activation('relu'))\n",
    "\n",
    "\n",
    "model.add(Conv2D(filters = 32, kernel_size = (3,3)))\n",
    "model.add(Activation('relu'))\n",
    "model.add(MaxPool2D(pool_size=(2,2)))\n",
    "model.add(Dropout(0.3))\n",
    "\n",
    "model.add(Flatten())\n",
    "model.add(Dense(256, activation='relu'))\n",
    "model.add(Dense(10, activation='softmax'))\n",
    "\n",
    "model.compile(loss='categorical_crossentropy',\n",
    "             optimizer = 'rmsprop',\n",
    "             metrics = ['accuracy'])"
   ]
  },
  {
   "cell_type": "code",
   "execution_count": null,
   "metadata": {
    "execution": {
     "iopub.execute_input": "2024-06-29T15:53:32.319598Z",
     "iopub.status.busy": "2024-06-29T15:53:32.319138Z",
     "iopub.status.idle": "2024-06-29T15:58:31.802888Z",
     "shell.execute_reply": "2024-06-29T15:58:31.801594Z",
     "shell.execute_reply.started": "2024-06-29T15:53:32.319553Z"
    }
   },
   "outputs": [],
   "source": [
    "history = model.fit(X_train, y_train, epochs =4, batch_size=32, validation_data=(X_test, y_test))"
   ]
  },
  {
   "cell_type": "code",
   "execution_count": null,
   "metadata": {
    "execution": {
     "iopub.execute_input": "2024-06-29T15:58:31.805216Z",
     "iopub.status.busy": "2024-06-29T15:58:31.804871Z",
     "iopub.status.idle": "2024-06-29T15:58:31.838805Z",
     "shell.execute_reply": "2024-06-29T15:58:31.837594Z",
     "shell.execute_reply.started": "2024-06-29T15:58:31.805185Z"
    }
   },
   "outputs": [],
   "source": [
    "model.summary()"
   ]
  },
  {
   "cell_type": "code",
   "execution_count": null,
   "metadata": {
    "execution": {
     "iopub.execute_input": "2024-06-29T15:58:31.841069Z",
     "iopub.status.busy": "2024-06-29T15:58:31.84063Z",
     "iopub.status.idle": "2024-06-29T15:58:32.191405Z",
     "shell.execute_reply": "2024-06-29T15:58:32.189906Z",
     "shell.execute_reply.started": "2024-06-29T15:58:31.84103Z"
    }
   },
   "outputs": [],
   "source": [
    "plt.plot(model.history.history['accuracy'])\n",
    "plt.plot(model.history.history['val_accuracy'])\n",
    "plt.title('Model Accuracy')\n",
    "plt.ylabel('Accuracy')\n",
    "plt.xlabel('Epochs')\n",
    "plt.legend(['train', 'test'])\n",
    "plt.show()"
   ]
  },
  {
   "cell_type": "code",
   "execution_count": null,
   "metadata": {
    "execution": {
     "iopub.execute_input": "2024-06-29T15:58:32.193505Z",
     "iopub.status.busy": "2024-06-29T15:58:32.193113Z",
     "iopub.status.idle": "2024-06-29T15:58:32.892793Z",
     "shell.execute_reply": "2024-06-29T15:58:32.891303Z",
     "shell.execute_reply.started": "2024-06-29T15:58:32.193471Z"
    }
   },
   "outputs": [],
   "source": [
    "train_acc = history.history['accuracy']\n",
    "train_loss = history.history['loss']\n",
    "\n",
    "val_acc = history.history['val_accuracy']\n",
    "val_loss = history.history['val_loss']\n",
    "\n",
    "index_loss = np.argmin(val_loss)\n",
    "index_acc = np.argmax(val_acc)\n",
    "\n",
    "val_lowest = val_loss[index_loss]\n",
    "val_highest = val_acc[index_acc]\n",
    "\n",
    "Epochs = [i+1 for i in range(len(train_acc))]\n",
    "\n",
    "loss_label = f'Best Epoch = {str(index_loss + 1)}'\n",
    "acc_label = f'Best Epoch = {str(index_acc + 1)}'\n",
    "\n",
    "plt.figure(figsize= (20,8))\n",
    "plt.style.use('fivethirtyeight')\n",
    "\n",
    "plt.subplot(1,2,1)\n",
    "plt.plot(Epochs , train_loss , 'r', label = 'Training Loss')\n",
    "plt.plot(Epochs , val_loss , 'g' , label = 'Validation Loss')\n",
    "plt.scatter(index_loss +1 , val_lowest , s = 150 , c = 'blue' , label = loss_label)\n",
    "plt.title('Training vs Validation (loss)')\n",
    "plt.xlabel('Epochs')\n",
    "plt.ylabel('Loss')\n",
    "plt.legend()\n",
    "\n",
    "plt.subplot(1,2,2)\n",
    "plt.plot(Epochs , train_acc , 'r', label= 'Training Accuracy')\n",
    "plt.plot(Epochs , val_acc , 'g' , label = 'Validation Accuracy')\n",
    "plt.scatter(index_acc + 1 , val_highest , s= 150 , c = 'blue' , label= acc_label)\n",
    "plt.title('Training vs Validation (Accuracy)')\n",
    "plt.xlabel('Epochs')\n",
    "plt.ylabel('Accuracy')\n",
    "plt.legend()\n",
    "\n",
    "plt.tight_layout\n",
    "plt.show();"
   ]
  },
  {
   "cell_type": "code",
   "execution_count": null,
   "metadata": {
    "execution": {
     "iopub.execute_input": "2024-06-29T15:59:52.885983Z",
     "iopub.status.busy": "2024-06-29T15:59:52.885439Z",
     "iopub.status.idle": "2024-06-29T15:59:56.389721Z",
     "shell.execute_reply": "2024-06-29T15:59:56.388498Z",
     "shell.execute_reply.started": "2024-06-29T15:59:52.885944Z"
    }
   },
   "outputs": [],
   "source": [
    "test_loss, test_accuracy = model.evaluate(X_test, y_test)\n",
    "print('Test accuracy: {:2.2f}%'.format(test_accuracy*100))"
   ]
  }
 ],
 "metadata": {
  "kaggle": {
   "accelerator": "none",
   "dataSources": [
    {
     "datasetId": 39466,
     "sourceId": 61155,
     "sourceType": "datasetVersion"
    }
   ],
   "dockerImageVersionId": 30732,
   "isGpuEnabled": false,
   "isInternetEnabled": false,
   "language": "python",
   "sourceType": "notebook"
  },
  "kernelspec": {
   "display_name": "Python 3 (ipykernel)",
   "language": "python",
   "name": "python3"
  },
  "language_info": {
   "codemirror_mode": {
    "name": "ipython",
    "version": 3
   },
   "file_extension": ".py",
   "mimetype": "text/x-python",
   "name": "python",
   "nbconvert_exporter": "python",
   "pygments_lexer": "ipython3",
   "version": "3.10.9"
  }
 },
 "nbformat": 4,
 "nbformat_minor": 4
}
